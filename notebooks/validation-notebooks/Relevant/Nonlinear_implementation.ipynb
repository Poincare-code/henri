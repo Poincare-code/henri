{
 "cells": [
  {
   "cell_type": "code",
   "execution_count": 186,
   "id": "022ec8ad-4ea1-41cf-94e7-536a3e419a80",
   "metadata": {},
   "outputs": [],
   "source": [
    "%reset -f\n",
    "import time\n",
    "import numpy as np\n",
    "import sympy as sp\n",
    "from tqdm import tqdm\n",
    "import matplotlib.pyplot as plt\n",
    "import scipy.integrate as integrate\n",
    "import scipy.interpolate as interpolate\n",
    "from scipy.integrate import solve_bvp\n",
    "\n",
    "# from tueplots.bundles import probnum2025\n",
    "# plt.rcParams.update(probnum2025())\n"
   ]
  },
  {
   "cell_type": "markdown",
   "id": "2c4f7941-bfa9-4105-a973-639647c5f183",
   "metadata": {},
   "source": [
    "The central idea is to start from the $\\alpha$ and $\\psi$ of Schwarzschild, and gradually add multiple $\\delta \\rho$'s to it to obtain the TOV solution"
   ]
  },
  {
   "cell_type": "markdown",
   "id": "01bf7cec-4c29-4a83-9d2a-01f17a300f08",
   "metadata": {},
   "source": [
    "### 0. Solutions to the TOV-Equations and Source/Matter Terms"
   ]
  },
  {
   "cell_type": "code",
   "execution_count": 187,
   "id": "5ced5f5b-3b1b-49c8-a65d-16d7aa2fb15e",
   "metadata": {},
   "outputs": [],
   "source": [
    "# Load the variables from tov-final\n",
    "r_o   = 1.0e+3          # outer radius (maximum radius)\n",
    "r_c   = 1.0e-1          # central radius (minimum radius)\n",
    "P_c   = 1.0e-1          # central pressure (maximal pressure)\n",
    "\n",
    "# Specify and load the file\n",
    "filename    = f'../../data/tov_{round(np.log10(r_o)):+}{round(np.log10(r_c)):+}{round(np.log10(P_c)):+}.npy'\n",
    "loaded_data = np.load(filename)\n",
    "\n",
    "# Unpack the values\n",
    "r, m, P, rho, R, alpha, psi = loaded_data\n",
    "\n",
    "# Downsample the data\n",
    "downsample_factor = 2000\n",
    "m     = m[::downsample_factor]\n",
    "P     = P[::downsample_factor]\n",
    "rho   = rho[::downsample_factor]\n",
    "R     = R[::downsample_factor]\n",
    "alpha = alpha[::downsample_factor]\n",
    "psi   = psi[::downsample_factor]\n",
    "\n",
    "# Express the source/matter terms\n",
    "W  = 1                                         # Lorentz factor\n",
    "v  = np.zeros_like(rho)                        # radial velocity\n",
    "\n",
    "E  = rho\n",
    "Sr = rho * (1 + P/rho) * W**2 * v\n",
    "S  = rho * (1 + P/rho) * W**2 * v**2 + 3 * P\n"
   ]
  },
  {
   "cell_type": "markdown",
   "id": "617e6b7a-519c-4fac-9ba6-d306952ed6a4",
   "metadata": {},
   "source": [
    "## 1. Application of a perturbation to the density"
   ]
  },
  {
   "cell_type": "code",
   "execution_count": 188,
   "id": "d2fb067c-29c4-416f-91de-3c1c8c8ec5c9",
   "metadata": {},
   "outputs": [],
   "source": [
    "# Definitions\n",
    "iteration_steps = 5000\n",
    "\n",
    "# Perturbation parameters\n",
    "center_value  = 0.3        # Center value\n",
    "sigma         = 1.0e-1     # Width of the full Gaussian\n",
    "amplitude     = 1.0e-1     # Scale factor\n",
    "\n",
    "# Construction of the perturbation\n",
    "center_index  = np.argmin(np.abs(R - center_value))\n",
    "R_centered    = (R - R[center_index])/R[center_index]\n",
    "gaussian      = amplitude * np.exp(-((R - R[center_index]) ** 2) / (2 * sigma**2))\n",
    "rho_perturbation = gaussian * R_centered\n",
    "\n",
    "# Define the perturbed density\n",
    "perturbed_rho = rho + rho_perturbation\n"
   ]
  },
  {
   "cell_type": "markdown",
   "id": "44218ad2-806e-4e3d-ba16-a3af5d5c2362",
   "metadata": {},
   "source": [
    "### 2. Problem Definition"
   ]
  },
  {
   "cell_type": "markdown",
   "id": "898e2b95-b688-4f5a-9749-ee55b48cdff8",
   "metadata": {},
   "source": [
    "Given the perturbation on the density, the vector equations are trivially zero.\n",
    "\n",
    "We focus immediately on the nonlinear ODE:\n",
    "\\begin{equation}\n",
    "\\nabla^{2} \\psi = \\frac{S_{1}}{\\psi} + \\frac{S_{7}}{\\psi^7}\n",
    "\\end{equation}\n",
    "which we will solve in an iterative fashion as we will compute $\\psi_{(n+1)}$ in iteration $n+1$ based on the previous estimate $\\psi_{(n)}$ in iteration $n$:\n",
    "\\begin{equation}\n",
    "\\nabla^{2} \\psi_{(n+1)} = \\frac{S_{1}}{\\psi_{(n)}} + \\frac{S_{7}}{\\psi_{(n)}^7}\n",
    "\\end{equation}\n",
    "Assume we know the solution $\\psi$ for a given density $\\rho$. We are now interested in $\\psi$ for a perturbed density, that is, for $\\rho_{perturbed} = \\rho + \\delta \\rho$. This leads to the source terms:\n",
    "\\begin{align}\n",
    "    S_1   &= -2 \\pi \\rho_{perturbed} \\\\ \n",
    "    S_7   &= 0 \\\\\n",
    "\\end{align}\n",
    "such that the nonlinear ODE now reads:\n",
    "\\begin{equation}\n",
    "\\nabla^{2} \\psi_{(n+1)} = \\frac{S_{1}}{\\psi_{(n)}}\n",
    "\\end{equation}\n",
    "In spherical symmetry, this ODE reads:\n",
    "\\begin{equation}\n",
    "    \\big( \\partial_{r}^{2} + \\frac{2}{r} \\partial_r \\big) \\psi_{(n+1)} = \\frac{S_{1}}{\\psi_{(n)}}\n",
    "\\end{equation}\n",
    "It should satisfy the following boundary conditions:\n",
    "\\begin{align}\n",
    "    \\frac{d\\psi}{dr}(0) &= 0 \\\\\n",
    "    \\psi(R) &= 1 + C/R_{max} \n",
    "\\end{align}\n",
    "We initialize $\\psi_{(0)}$ with the initial $\\psi$ for the density $\\rho$, and update this estimate along the way. In each iteration $n$, we will compute a posterior distribution over $\\psi_{(n)} \\sim \\mathcal{N}(\\mu_{(n)}, \\Sigma_{(n)})$. The uncertainty propogates to an uncertainty in the right-hand side, which we compute through a linearization of the source term:\n",
    "\\begin{equation}\n",
    "    \\frac{S_{1}}{\\psi} \\approx \\frac{S_{1}}{\\psi_{(n)}} - \\frac{S_{1}}{\\psi_{(n)}^2} \\delta \\psi_{(n)}\n",
    "\\end{equation}\n",
    "such that the covariance on the source term at iteration $n$, $S_{n}$, is increased:\n",
    "\\begin{equation}\n",
    "    S_{(n+1)} \\leftarrow S_{(n)} + \\bigg( \\frac{1}{\\psi_{(n)}^2} (S_{1} \\Sigma_{(n)} S_{1}^T) (\\frac{1}{\\psi_{(n)}^2}) \\bigg)^T \n",
    "\\end{equation}"
   ]
  },
  {
   "cell_type": "code",
   "execution_count": 189,
   "id": "a68f7a42-e9c4-4ed6-8756-a044abec1591",
   "metadata": {},
   "outputs": [],
   "source": [
    "# Definition of the source term S1\n",
    "S1 = - 2*np.pi*perturbed_rho\n",
    "\n",
    "# Symbol nomenclature\n",
    "r     = sp.symbols('r')\n",
    "n     = sp.symbols('n')\n",
    "R_max = sp.symbols('R_max')\n",
    "\n",
    "# Definition of the basis functions\n",
    "basis_func       = sp.sqrt(2) * sp.sin(n * sp.pi * r / R_max) / (r * n**2)\n",
    "basis_func_lambd = sp.lambdify((r, n, R_max), basis_func)\n",
    "\n",
    "# Definition of the laplacian operator\n",
    "laplacian = lambda r, func: sp.diff(func, r, 2) + 2 / r * sp.diff(func, r)\n",
    "laplacian_lambd = sp.lambdify((r, n, R_max), sp.simplify(laplacian(r, basis_func)))\n"
   ]
  },
  {
   "cell_type": "code",
   "execution_count": 190,
   "id": "b73bacc9-c76c-4ee6-af30-dcb8cfecce31",
   "metadata": {},
   "outputs": [],
   "source": [
    "# Function definitions\n",
    "# 1a. Construction of the design matrix\n",
    "def construct_design_matrix(S1, R, basis_func_lamb, laplacian_lambd, psi, N):\n",
    "    # Definition of k_squared and the source term\n",
    "    source_term = S1 / psi\n",
    "    \n",
    "    # Initialization of the design matrix\n",
    "    design_matrix = np.zeros((len(R), N))\n",
    "    basis_func_matrix = np.zeros((len(R), N))\n",
    "    \n",
    "    for i in range(1, N):\n",
    "        design_matrix[:,i] = laplacian_lambd(R, i, max(R))\n",
    "        basis_func_matrix[:,i] = basis_func_lambd(R, i, max(R))\n",
    "\n",
    "    return basis_func_matrix, design_matrix, source_term\n",
    "\n",
    "# 1b. Construction of the design matrix for Chebyshev polynomials\n",
    "def construct_design_matrix_chebyshev(S1, R, psi, N):\n",
    "    # Definition of k_squared and the source term\n",
    "    source_term = S1 / psi\n",
    "    \n",
    "    # Initialization of the design matrix\n",
    "    design_matrix = np.zeros((len(R)+2, N))     # +2 due to the boundary conditions\n",
    "    basis_func_matrix = np.zeros((len(R), N))\n",
    "\n",
    "    # Currently take it from start_order 3 to avoid that the operator on the basis function yields 0\n",
    "    min_order = 3\n",
    "    for i in range(min_order, N+min_order):\n",
    "        # This can be implemented much more efficiently by precomputing this\n",
    "        basis_func = sp.polys.orthopolys.chebyshevt_poly(i, r/R_max)\n",
    "        basis_func_lambd = sp.lambdify((r, R_max), basis_func)\n",
    "        laplacian_lambd = sp.lambdify((r, R_max), sp.simplify(laplacian(r, basis_func)))\n",
    "\n",
    "        # Boundary condition at the origin\n",
    "        diff_basis_func = sp.diff(basis_func, r)\n",
    "        diff_func_lambd = sp.lambdify((r, R_max), diff_basis_func)\n",
    "        BC1 = np.array([diff_func_lambd(np.min(R), np.max(R))])\n",
    "\n",
    "        # Boundary condition at the outer point\n",
    "        BC2 = np.array([basis_func_lambd(np.max(R), np.max(R))])\n",
    "        \n",
    "        design_matrix[:,i-min_order] = np.hstack((laplacian_lambd(R, max(R)), BC1, BC2))\n",
    "        basis_func_matrix[:,i-min_order] = basis_func_lambd(R, max(R))\n",
    "\n",
    "    return basis_func_matrix, design_matrix, source_term\n",
    "\n",
    "\n",
    "# 2. ODE solver\n",
    "def solve_ode(basis_func_matrix, design_matrix, y, S, L):\n",
    "    # Define the (inverse) squared lambda and sigma matrices\n",
    "    Sneg2 = np.linalg.matrix_power(S, -2)\n",
    "    Lneg2 = np.linalg.matrix_power(L, -2)\n",
    "    \n",
    "    # Reformulate the problem into an A @ w = b problem, and solve the least-squares (in the \"classical perspective\")\n",
    "    A = design_matrix.T @ Sneg2 @ design_matrix + Lneg2\n",
    "    b = design_matrix.T @ Sneg2 @ y\n",
    "    \n",
    "    # Solve the system\n",
    "    w = np.linalg.solve(A, b)\n",
    "    \n",
    "    # Computation of the source function mean\n",
    "    source_func_mean_primal = design_matrix @ w\n",
    "    source_func_mean_primal = np.squeeze(source_func_mean_primal)\n",
    "    \n",
    "    # Computation of the source function variance\n",
    "    v = np.linalg.solve(A, design_matrix.T)\n",
    "    source_func_variance_primal = design_matrix @ v\n",
    "    source_func_variance_primal = np.diag(source_func_variance_primal)\n",
    "    \n",
    "    # Computation of the solution mean\n",
    "    solution_mean_primal = basis_func_matrix @ w\n",
    "    solution_mean_primal = np.squeeze(solution_mean_primal)\n",
    "    \n",
    "    # Computation of the solution variance\n",
    "    v = np.linalg.solve(A, basis_func_matrix.T)\n",
    "    solution_variance_primal = basis_func_matrix @ v\n",
    "    solution_variance_primal = np.diag(solution_variance_primal)\n",
    "\n",
    "    return solution_mean_primal, solution_variance_primal, solution_variance_primal, w, v\n"
   ]
  },
  {
   "cell_type": "code",
   "execution_count": 207,
   "id": "8e2cf475-42d8-41e8-a454-b2e4a9333e3b",
   "metadata": {},
   "outputs": [
    {
     "name": "stderr",
     "output_type": "stream",
     "text": [
      "\n",
      "\u001b[A\n",
      "\u001b[A\n",
      "\u001b[A\n",
      "\u001b[A\n",
      "\n",
      "00%|█████████████████████████████████████████████| 4/4 [00:05<00:00,  1.31s/it]"
     ]
    }
   ],
   "source": [
    "psi_init = psi\n",
    "N = 25                               # Number of basis functions\n",
    "S = 1.0e-4*np.identity(len(R)+2)     # Sigma matrix\n",
    "L = 1.0e2*np.identity(N)             # \n",
    "\n",
    "# Define the arrays which store the variables\n",
    "iteration_steps        = 5\n",
    "psi_mean_storage       = np.zeros((len(psi), iteration_steps+1))\n",
    "psi_var_storage        = np.zeros((len(psi), len(psi), iteration_steps+1))\n",
    "delta_psi_mean_storage = np.zeros((len(psi), iteration_steps+1))\n",
    "delta_psi_var_storage  = np.zeros((len(psi), len(psi), iteration_steps+1))\n",
    "\n",
    "# Initialization\n",
    "psi_mean_storage[:, 0] = psi_init\n",
    "\n",
    "# Boundary condition value\n",
    "y_BC1 = 0\n",
    "y_BC2 = np.array([1 + m[-1]/(2*R[-1])])\n",
    "\n",
    "for i in tqdm(range(1, iteration_steps)):\n",
    "\n",
    "    basis_func_matrix, design_matrix, source_term = construct_design_matrix_chebyshev(S1, R, psi_mean_storage[:, i-1], N);\n",
    "    \n",
    "    source_term = np.hstack((source_term, 0, y_BC2))\n",
    "    \n",
    "    solution_mean_primal, solution_variance_primal, solution_variance_primal, w, v = solve_ode(basis_func_matrix, design_matrix, source_term, S, L)\n",
    "\n",
    "    psi_mean_storage[:, i] = solution_mean_primal\n"
   ]
  },
  {
   "cell_type": "code",
   "execution_count": 218,
   "id": "8b8bd720-d75e-4ae3-b636-fbac9b10621b",
   "metadata": {},
   "outputs": [
    {
     "data": {
      "text/plain": [
       "[<matplotlib.lines.Line2D at 0x7aac35dc3b10>]"
      ]
     },
     "execution_count": 218,
     "metadata": {},
     "output_type": "execute_result"
    },
    {
     "data": {
      "image/png": "[encoded data removed]",
      "text/plain": [
       "<Figure size 640x480 with 1 Axes>"
      ]
     },
     "metadata": {},
     "output_type": "display_data"
    },
    {
     "data": {
      "image/png": "[encoded data removed]",
      "text/plain": [
       "<Figure size 640x480 with 1 Axes>"
      ]
     },
     "metadata": {},
     "output_type": "display_data"
    }
   ],
   "source": [
    "plt.figure(1)\n",
    "plt.plot(psi_mean_storage[:,0])\n",
    "\n",
    "plt.figure(2)\n",
    "plt.plot(psi_mean_storage[:,1])"
   ]
  },
  {
   "cell_type": "code",
   "execution_count": null,
   "id": "9b41aaa5-adbe-4bca-b244-7b48a0a1172d",
   "metadata": {},
   "outputs": [],
   "source": []
  }
 ],
 "metadata": {
  "kernelspec": {
   "display_name": "Python 3 (ipykernel)",
   "language": "python",
   "name": "python3"
  },
  "language_info": {
   "codemirror_mode": {
    "name": "ipython",
    "version": 3
   },
   "file_extension": ".py",
   "mimetype": "text/x-python",
   "name": "python",
   "nbconvert_exporter": "python",
   "pygments_lexer": "ipython3",
   "version": "3.13.1"
  }
 },
 "nbformat": 4,
 "nbformat_minor": 5
}

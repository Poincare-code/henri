{
 "cells": [
  {
   "cell_type": "code",
   "execution_count": 1,
   "id": "0a7d6474-f11b-4c8d-9d1c-28ae72e4c352",
   "metadata": {},
   "outputs": [],
   "source": [
    "%reset -f\n",
    "import time\n",
    "import numpy as np\n",
    "import matplotlib.pyplot as plt\n",
    "import scipy.integrate as integrate\n",
    "import scipy.interpolate as interpolate\n",
    "\n",
    "from joblib import Parallel, delayed\n",
    "\n",
    "import matplotlib.pyplot as plt\n",
    "from tueplots.bundles import probnum2025\n",
    "plt.rcParams.update(probnum2025())"
   ]
  },
  {
   "cell_type": "markdown",
   "id": "5e47a9fe-2bb1-4cc0-8401-1e2704ab9379",
   "metadata": {},
   "source": [
    "### 0. Solutions to the TOV-Equations and Source/Matter Terms"
   ]
  },
  {
   "cell_type": "code",
   "execution_count": 2,
   "id": "2bed08f2-4ad4-434f-8880-f6b927ef41b8",
   "metadata": {},
   "outputs": [],
   "source": [
    "# Load the variables from tov-final\n",
    "r_o   = 1.0e+3          # outer radius (maximum radius)\n",
    "r_c   = 1.0e-1          # central radius (minimum radius)\n",
    "P_c   = 1.0e-1          # central pressure (maximal pressure)\n",
    "\n",
    "# Note: the value for the central pressure must be sufficiently low as to avoid having to deal with singularities (visible in alpha, psi)\n",
    "\n",
    "# Specify and load the file\n",
    "filename    = f'data/tov_{round(np.log10(r_o)):+}{round(np.log10(r_c)):+}{round(np.log10(P_c)):+}.npy'\n",
    "loaded_data = np.load(filename)\n",
    "\n",
    "# Unpack the values\n",
    "r, m, P, rho, R, alpha, psi = loaded_data\n",
    "\n",
    "# Define polytropic constants (using c = G = 1 units for simplicity)\n",
    "K     = 100    # Polytropic constant\n",
    "Gamma = 2      # Polytropic exponent\n",
    "\n",
    "# Polytropic Equation of State (EOS)\n",
    "def pressure(rho):\n",
    "    return K * rho**Gamma\n",
    "    "
   ]
  },
  {
   "cell_type": "code",
   "execution_count": 3,
   "id": "11cac91f-0d1f-423b-8e3b-c2a338393512",
   "metadata": {},
   "outputs": [],
   "source": [
    "# Express the source/matter terms\n",
    "W  = 1                                         # Lorentz factor\n",
    "v  = np.zeros_like(rho)                        # radial velocity\n",
    "\n",
    "E  = rho\n",
    "Sr = rho * (1 + P/rho) * W**2 * v\n",
    "S  = rho * (1 + P/rho) * W**2 * v**2 + 3 * P\n"
   ]
  },
  {
   "cell_type": "code",
   "execution_count": 4,
   "id": "98438aeb-df52-49da-afdd-955cfd061cb6",
   "metadata": {},
   "outputs": [],
   "source": [
    "# # Visualization of the source/matter terms\n",
    "# # Note: Sr is not plotted as it is zero, and would not show up on a log-log scale\n",
    "# # plt.figure\n",
    "# plt.plot(R/R[0], E/E[0], label=r\"$E/E(0)$\")\n",
    "# plt.plot(R/R[0], S/S[0], label=r\"$S/S(0)$\")\n",
    "# plt.plot(R/R[0], alpha/alpha[0], label=r\"$\\alpha/\\alpha(0)$\")\n",
    "# plt.plot(R/R[0], psi/psi[0], label=r\"$\\psi/\\psi(0)$\")\n",
    "# plt.xscale('log')\n",
    "# # plt.yscale('log')\n",
    "\n",
    "# plt.title(r\"Matter source functions $(\\mathcal{M})$\")\n",
    "# plt.xlabel(r\"$r/r_{\\min}$\")\n",
    "# plt.legend()\n",
    "# plt.show()\n"
   ]
  },
  {
   "cell_type": "markdown",
   "id": "5c5209aa-2540-45c1-b8b7-1613a8adb485",
   "metadata": {},
   "source": [
    "## 1. Application of a perturbation to the density"
   ]
  },
  {
   "cell_type": "code",
   "execution_count": 5,
   "id": "992d4a93-8640-47b5-953e-45a95de16b0e",
   "metadata": {},
   "outputs": [],
   "source": [
    "# Perturbation parameters\n",
    "center_value  = 0.5        # Center value\n",
    "sigma         = 1.0e-1     # Width of the full Gaussian\n",
    "amplitude     = 1.0e-3     # Scale factor\n",
    "\n",
    "# Center Gaussian\n",
    "center_index  = np.argmin(np.abs(R - center_value))\n",
    "R_centered    = (R - R[center_index])/R[center_index]\n",
    "gaussian      = amplitude * np.exp(-((R - R[center_index]) ** 2) / (2 * sigma**2))\n",
    "\n",
    "# Multiplication of Gaussian\n",
    "perturbation  = gaussian * R_centered\n",
    "rho_perturbed = rho + gaussian * R_centered\n",
    "\n",
    "\n",
    "# # Visualization\n",
    "# plt.figure(1)\n",
    "# plt.plot(R, perturbation)\n",
    "# plt.xscale('log')\n",
    "# plt.title(\"Perturbation Profile on the Density\")\n",
    "\n",
    "# plt.figure(2)\n",
    "# plt.plot(R, rho, label=\"Unperturbed density\");\n",
    "# plt.plot(R, rho_perturbed, linestyle='-.', label=\"Perturbed density\");\n",
    "# plt.xlabel('R');\n",
    "# plt.xscale('log');\n",
    "# plt.yscale('log');\n",
    "# plt.title(r\"Perturbed Density: $\\rho_{perturbed}$\");\n",
    "# plt.legend();\n"
   ]
  },
  {
   "cell_type": "code",
   "execution_count": 6,
   "id": "89d61594-56df-4cbe-b27f-931242fad97e",
   "metadata": {},
   "outputs": [],
   "source": [
    "# Apply the density perturbation of the source/matter terms\n",
    "E_perturbed  = rho_perturbed\n",
    "Sr_perturbed = rho_perturbed * (1 + P/rho) * W**2 * v\n",
    "S_perturbed  = rho * (1 + pressure(rho_perturbed)/rho) * W**2 * v**2 + 3 * pressure(rho_perturbed)\n",
    "\n",
    "# # Figure: Perturbed source/matter terms\n",
    "# plt.figure()\n",
    "\n",
    "# plt.subplot(3, 1, 1)\n",
    "# plt.plot(R, E_perturbed,  label= \"E\")\n",
    "# plt.plot(R, S_perturbed,  label= \"S\")\n",
    "# plt.yscale('log')\n",
    "# plt.xscale('log')\n",
    "# plt.xlabel('R')\n",
    "\n",
    "# plt.legend()\n",
    "# plt.title(\"Perturbed Source Terms\")\n",
    "\n",
    "# # Figure: Perturbed velocity\n",
    "# plt.subplot(3, 1, 2)\n",
    "# plt.plot(R, perturbation, color=\"red\")\n",
    "# plt.xscale('log')  \n",
    "# plt.xlabel('R')\n",
    "# plt.ylabel(r\"Perturbation profile on $\\rho$\")\n",
    "\n",
    "# # Figure: Alpha and Psi\n",
    "# plt.subplot(3, 1, 3)\n",
    "# plt.plot(R, alpha,  label= r\"$\\alpha$\")\n",
    "# plt.plot(R, psi,  label= r\"$\\psi$\")\n",
    "# plt.xscale('log')  \n",
    "# plt.yscale('log')\n",
    "# plt.xlabel('R')\n",
    "# plt.legend()\n",
    "\n",
    "# plt.tight_layout()\n",
    "# plt.show()\n"
   ]
  },
  {
   "cell_type": "markdown",
   "id": "d036f6ef-fd17-400b-8fcd-2cedb2c1dca2",
   "metadata": {},
   "source": [
    "## Solution to the equation in $\\delta \\psi$"
   ]
  },
  {
   "cell_type": "markdown",
   "id": "e29a0a65-2ee6-4297-bedd-3d0e5234ddd3",
   "metadata": {},
   "source": [
    "Given the perturbation on the density, the vector equations are trivially zero.\n",
    "\n",
    "We focus on the the first scalar equation to solve is:\n",
    "\n",
    "\\begin{equation}\n",
    "\\left(\\nabla^{2} + S_{1} \\psi^{2} + 7 S_{7} \\psi^{8} \\right) \\delta \\psi = \\delta S_{1} \\psi + \\delta S_{7} \\psi^{7}\n",
    "\\end{equation}\n",
    "\n",
    "Such that:\n",
    "\\begin{equation}\n",
    "    k^{2}_{\\psi} = -S_{1} \\psi^{2} - 7 S_{7} \\psi^{8} \n",
    "\\end{equation}\n",
    "in which $S_{1} = -2 \\pi \\rho_{perturbed}$ and $S_7 = 0$.\n",
    "\n",
    "The right-hand sides are given by:\n",
    "\\begin{equation}\n",
    "    \\delta S_1 = -2 \\pi \\delta E = - 2 \\pi \\delta \\rho\n",
    "\\end{equation}\n",
    "\n",
    "\\begin{equation}\n",
    "    \\delta S_7 = 0\n",
    "\\end{equation}"
   ]
  },
  {
   "cell_type": "code",
   "execution_count": 7,
   "id": "14645902-a825-4599-aeec-4e157b63477d",
   "metadata": {},
   "outputs": [],
   "source": [
    "# Define the upper integration bound\n",
    "R_max = np.max(R)\n",
    "\n",
    "# Definition of S1\n",
    "S1 = -2 * np.pi * rho_perturbed\n",
    "\n",
    "# Definition of source term\n",
    "source_term_1 = -2*np.pi*perturbation*psi\n",
    "\n",
    "# Relevant functions\n",
    "k = - S1 * psi**(2)\n",
    "l = lambda n, x: np.sqrt(2) * np.sin(n * np.pi * x / R_max)\n",
    "λ = lambda n   : - (n * np.pi / R_max)**2\n",
    "\n",
    "# Interpolate to integrate\n",
    "k_interp = interpolate.interp1d(R, k, kind='cubic', fill_value='extrapolate')\n",
    "\n",
    "# Integration\n",
    "def integrand(x, n, m):\n",
    "    # denumerator: negative due to the product of two complex values\n",
    "    return l(n, x) * k_interp(x) * np.conj(l(m, x)) / (- np.sqrt(-λ(n)) * np.sqrt(-λ(m)))              \n",
    "\n",
    "# Visulation of the integrand\n",
    "n, m = 1, 1\n",
    "# plt.figure(1)\n",
    "# plt.plot(R, integrand(R, n, m));\n",
    "# plt.title(f\"Integrand for n={n} and m={m}\");"
   ]
  },
  {
   "cell_type": "code",
   "execution_count": 8,
   "id": "55941aa8-5fd7-4510-9b1b-0caffcf9b8a6",
   "metadata": {},
   "outputs": [
    {
     "name": "stdout",
     "output_type": "stream",
     "text": [
      "Elapsed time: 186.96510410308838\n"
     ]
    }
   ],
   "source": [
    "# Computation of K tilde\n",
    "n_max, m_max = 100, 100\n",
    "\n",
    "def compute_integral(n, m):\n",
    "    return integrate.quad(integrand, 0, R_max, args=(n + 1, m + 1))[0]\n",
    "\n",
    "start = time.time()\n",
    "\n",
    "K_tilde =  (- np.sqrt(-λ(n)) * np.sqrt(-λ(m))) * np.array(Parallel(n_jobs=-1)(delayed(compute_integral)(n, m) for n in range(n_max) for m in range(m_max))).reshape(n_max, m_max)\n",
    "\n",
    "stop = time.time()\n",
    "\n",
    "print(f\"Elapsed time: {stop - start}\")"
   ]
  },
  {
   "cell_type": "code",
   "execution_count": 9,
   "id": "b60fc784-cbe0-4f67-8556-bbd22996dd66",
   "metadata": {},
   "outputs": [],
   "source": [
    "# Computation of lambda dirac\n",
    "lambda_dirac = np.diag([(- np.sqrt(-λ(n)) * np.sqrt(-λ(n))) for n in range(n_max)])\n"
   ]
  },
  {
   "cell_type": "code",
   "execution_count": 10,
   "id": "92cb00eb-1560-4774-ba19-2726ac57657f",
   "metadata": {},
   "outputs": [],
   "source": [
    "# # Visualization\n",
    "# fig, axes = plt.subplots(1, 2, figsize=(12, 6))\n",
    "\n",
    "# # First subplot: abs(lambda_dirac)\n",
    "# im1 = axes[0].imshow(np.abs(lambda_dirac), cmap=\"hot\")\n",
    "# axes[0].set_title(r\"$\\lambda_n \\delta_{nm}$\")\n",
    "# fig.colorbar(im1, ax=axes[0], label=r\"$\\lambda_n \\delta_{nm}$\")\n",
    "\n",
    "# # Second subplot: abs(K)\n",
    "# im2 = axes[1].imshow(K_tilde, cmap=\"hot\")\n",
    "# axes[1].set_title(r\"$\\tilde{K}_{nm}$\")\n",
    "# fig.colorbar(im2, ax=axes[1], label=\"K\")"
   ]
  },
  {
   "cell_type": "code",
   "execution_count": 11,
   "id": "e2a0edd4-354d-4b1c-9697-1a52809ce791",
   "metadata": {},
   "outputs": [],
   "source": [
    "# Reformulate the problem as Cx = d\n",
    "C = lambda_dirac - K_tilde\n"
   ]
  },
  {
   "cell_type": "code",
   "execution_count": 12,
   "id": "a44cec71-734f-491f-b9a7-229774f1cad6",
   "metadata": {},
   "outputs": [],
   "source": [
    "# Interpolation of the source term, to integrate\n",
    "source_term_1_int = interpolate.interp1d(R, R*source_term_1, kind='cubic', fill_value=\"extrapolate\")\n",
    "\n",
    "def integrand_b(x, n):\n",
    "    return l(n, x) * source_term_1_int(x)\n",
    "\n",
    "d = np.zeros(C.shape[0]).squeeze()\n",
    "for n in range(n_max):\n",
    "    d[n] = integrate.quad(integrand_b, 0, R[-1], args=n+1)[0]\n",
    "    "
   ]
  },
  {
   "cell_type": "code",
   "execution_count": 13,
   "id": "ef2adc17-3196-41c9-8f0c-8b6080c6958d",
   "metadata": {},
   "outputs": [],
   "source": [
    "f = np.linalg.solve(C, d)\n",
    "# plt.plot(f);\n",
    "# plt.title(\"Fourier coefficients of the ODE solution\")\n",
    "# plt.xlabel(\"Coefficient index\");"
   ]
  },
  {
   "cell_type": "code",
   "execution_count": 14,
   "id": "c8a702fb",
   "metadata": {},
   "outputs": [
    {
     "data": {
      "text/plain": [
       "(100, 100)"
      ]
     },
     "execution_count": 14,
     "metadata": {},
     "output_type": "execute_result"
    }
   ],
   "source": [
    "DD = np.linalg.inv(C) @ np.linalg.inv(C.T)\n",
    "DD.shape\n"
   ]
  },
  {
   "cell_type": "code",
   "execution_count": 15,
   "id": "7d5a78b2",
   "metadata": {},
   "outputs": [
    {
     "data": {
      "text/plain": [
       "array([[ 8.77962699e-01,  8.78050473e-01,  8.78138248e-01, ...,\n",
       "         7.25230633e-04,  3.62615349e-04,  3.90866107e-15],\n",
       "       [-4.41739271e-03, -4.41783436e-03, -4.41827601e-03, ...,\n",
       "        -4.07270790e-06, -2.03635413e-06, -2.19506281e-17],\n",
       "       [-4.48295538e-04, -4.48340362e-04, -4.48385186e-04, ...,\n",
       "        -3.70399182e-07, -1.85199608e-07, -1.99626777e-18],\n",
       "       ...,\n",
       "       [ 1.99408346e-11,  1.99274126e-11,  1.99139891e-11, ...,\n",
       "        -1.16966762e-13, -5.84834226e-14, -1.75201783e-24],\n",
       "       [ 1.78245931e-11,  1.78114365e-11,  1.77982785e-11, ...,\n",
       "         1.13697241e-13,  5.68486614e-14, -6.42754996e-25],\n",
       "       [ 1.58291757e-11,  1.58162858e-11,  1.58033946e-11, ...,\n",
       "        -1.09994678e-13, -5.49973794e-14,  9.59902934e-26]])"
      ]
     },
     "execution_count": 15,
     "metadata": {},
     "output_type": "execute_result"
    }
   ],
   "source": [
    "DD @ np.array([l(n+1,R) for n in range(DD.shape[0])])"
   ]
  },
  {
   "cell_type": "code",
   "execution_count": 16,
   "id": "39fee06d-a364-4892-9871-fe1526c42b20",
   "metadata": {},
   "outputs": [],
   "source": [
    "dpsi_solution = lambda x: [f[n]*l(n+1, x) for n in range(len(f))][0]\n",
    "\n",
    "# plt.figure()\n",
    "# plt.plot(R, dpsi_solution(R)/R);\n",
    "# plt.title(r\"$\\delta \\psi$\");\n",
    "# plt.xlabel(\"R\")\n",
    "\n",
    "# Uncertainty computation\n",
    "sigma_prior = np.identity(C.shape[0])*amplitude**(-1.5)\n",
    "p = np.linalg.solve(sigma_prior.T @ C.T, np.array([l(n+1,R) for n in range(DD.shape[0])]))\n",
    "dpsi_var = np.einsum('ij,ij->j', p, p)\n",
    "\n",
    "# plt.fill_between(R, dpsi_solution(R)/R - np.sqrt(dpsi_var),  dpsi_solution(R)/R + np.sqrt(dpsi_var), alpha=0.17)"
   ]
  },
  {
   "cell_type": "code",
   "execution_count": 17,
   "id": "56707691-710a-4183-b842-18b6cd21b812",
   "metadata": {},
   "outputs": [],
   "source": [
    "# plt.figure()\n",
    "# plt.plot(R, psi + dpsi_solution(R)/R);\n",
    "# plt.fill_between(R, psi + dpsi_solution(R)/R - np.sqrt(dpsi_var), psi + dpsi_solution(R)/R + np.sqrt(dpsi_var), alpha=0.17)\n",
    "# plt.title(r\"$\\psi$ after perturbation\");\n",
    "# plt.xlabel(\"R\")"
   ]
  },
  {
   "cell_type": "markdown",
   "id": "1cff42f0-a7a6-45ac-8241-421faf7cc0e6",
   "metadata": {},
   "source": [
    "## Solution to the equation in $\\delta \\alpha \\psi$"
   ]
  },
  {
   "cell_type": "markdown",
   "id": "3667c037-2bf3-4ca3-9cef-0cf8f7c06a2a",
   "metadata": {},
   "source": [
    "The second scalar equation to solve is:\n",
    "\\begin{equation}\n",
    "    \\left(\\nabla^{2} - S_{\\alpha\\psi} \\right) \\delta \\left( \\alpha \\psi \\right) = \\left( \\alpha \\psi \\right) \\delta S_{\\alpha\\psi}\n",
    "\\end{equation}\n",
    "Such that:\n",
    "\\begin{equation}\n",
    "    k^{2}_{\\alpha \\psi} = S_{\\alpha \\psi}\n",
    "\\end{equation}\n",
    "in which $S_{\\alpha \\psi} = 2 \\pi (E + 2S) / \\psi^2 = 2 \\pi (\\rho + 6p) / \\psi^2$\n",
    "The right-hand sides are given by:\n",
    "\\begin{equation}\n",
    "    \\delta S_{\\alpha \\psi} = 2 \\pi ((\\delta E + 2 \\delta S) \\psi - 2 (E + 2S) \\delta \\psi) / \\psi^3 \n",
    "\\end{equation}"
   ]
  },
  {
   "cell_type": "code",
   "execution_count": 18,
   "id": "131ee4b2-9832-4ecc-b14d-e84c1be3646d",
   "metadata": {},
   "outputs": [],
   "source": [
    "# Define the upper integration bound\n",
    "R_max = np.max(R)\n",
    "\n",
    "S_alpha_psi = 2 * np.pi * (rho_perturbed + 6 * pressure(rho_perturbed)) / psi**2\n",
    "\n",
    "# Definition of source term\n",
    "source_term_2 = alpha*psi*2*np.pi*((perturbation + 2 * 3 * pressure(perturbation))*psi - 2*(rho + 2 * 3 * pressure(rho) * dpsi_solution(R))/psi**3)\n",
    "\n",
    "# Relevant functions\n",
    "k = 2 * np.pi * (rho_perturbed + 6 * pressure(rho_perturbed)) / psi**2\n",
    "l = lambda n, x: np.sqrt(2) * np.sin(n * np.pi * x / R_max)\n",
    "λ = lambda n   : - (n * np.pi / R_max)**2\n",
    "\n",
    "k_interp = interpolate.interp1d(R, k, kind='cubic', fill_value='extrapolate')\n",
    "# Integration\n",
    "def integrand(x, n, m):\n",
    "    # denumerator: negative due to the product of two complex values\n",
    "    return l(n, x) * k_interp(x) * np.conj(l(m, x)) / (- np.sqrt(-λ(n)) * np.sqrt(-λ(m)))              \n",
    "\n",
    "# Visulation of the integrand\n",
    "n, m = 1, 1\n",
    "# plt.figure(1)\n",
    "# plt.plot(R, integrand(R, n, m));\n",
    "# plt.title(f\"Integrand for n={n} and m={m}\");\n"
   ]
  },
  {
   "cell_type": "code",
   "execution_count": 19,
   "id": "40da4384-104d-42c2-9e49-993580ebcefc",
   "metadata": {},
   "outputs": [
    {
     "name": "stdout",
     "output_type": "stream",
     "text": [
      "Elapsed time: 105.57265782356262\n"
     ]
    }
   ],
   "source": [
    "# Computation of K tilde\n",
    "n_max, m_max = 100, 100\n",
    "\n",
    "def compute_integral(n, m):\n",
    "    return integrate.quad(integrand, 0, R_max, args=(n + 1, m + 1))[0]\n",
    "\n",
    "start = time.time()\n",
    "\n",
    "K_tilde =  (- np.sqrt(-λ(n)) * np.sqrt(-λ(m))) * np.array(Parallel(n_jobs=-1)(delayed(compute_integral)(n, m) for n in range(n_max) for m in range(m_max))).reshape(n_max, m_max)\n",
    "\n",
    "stop = time.time()\n",
    "\n",
    "print(f\"Elapsed time: {stop - start}\")\n"
   ]
  },
  {
   "cell_type": "code",
   "execution_count": 20,
   "id": "892e3304-ad8e-4f48-9150-2fe9f2d49daa",
   "metadata": {},
   "outputs": [],
   "source": [
    "# Computation of lambda dirac\n",
    "lambda_dirac = np.diag([(- np.sqrt(-λ(n)) * np.sqrt(-λ(n))) for n in range(n_max)])\n"
   ]
  },
  {
   "cell_type": "code",
   "execution_count": 21,
   "id": "95f5d28e-6d12-423f-b704-7e2d94c07122",
   "metadata": {},
   "outputs": [],
   "source": [
    "# # Visualization\n",
    "# fig, axes = plt.subplots(1, 2, figsize=(12, 6))\n",
    "\n",
    "# # First subplot: abs(lambda_dirac)\n",
    "# im1 = axes[0].imshow(np.abs(lambda_dirac), cmap=\"hot\")\n",
    "# axes[0].set_title(r\"$\\lambda_n \\delta_{nm}$\")\n",
    "# fig.colorbar(im1, ax=axes[0], label=r\"$\\lambda_n \\delta_{nm}$\")\n",
    "\n",
    "# # Second subplot: abs(K)\n",
    "# im2 = axes[1].imshow(K_tilde, cmap=\"hot\")\n",
    "# axes[1].set_title(r\"$\\tilde{K}_{nm}$\")\n",
    "# fig.colorbar(im2, ax=axes[1], label=\"K\")"
   ]
  },
  {
   "cell_type": "code",
   "execution_count": 22,
   "id": "649e9465-1dec-4f8d-a29f-2a49cec6c973",
   "metadata": {},
   "outputs": [],
   "source": [
    "# Reformulate the problem as Cx = d\n",
    "C = lambda_dirac - K_tilde\n"
   ]
  },
  {
   "cell_type": "code",
   "execution_count": 23,
   "id": "6df9c316-a269-4ea8-a6bb-ff71ef4fff6c",
   "metadata": {},
   "outputs": [],
   "source": [
    "# Interpolation of the source term\n",
    "source_term_2_int = interpolate.interp1d(R, R*source_term_2, kind='cubic', fill_value=\"extrapolate\")\n",
    "\n",
    "def integrand_b(x, n):\n",
    "    return l(n, x) * source_term_2_int(x)\n",
    "\n",
    "d = np.zeros(C.shape[0]).squeeze()\n",
    "for n in range(n_max):\n",
    "    d[n] = integrate.quad(integrand_b, 0, R[-1], args=n+1)[0]\n",
    "    "
   ]
  },
  {
   "cell_type": "code",
   "execution_count": 24,
   "id": "36024974-7379-4bdf-b1cf-6a966dbe1b88",
   "metadata": {},
   "outputs": [],
   "source": [
    "g = np.linalg.solve(C, d)\n",
    "# plt.plot(g)\n",
    "# plt.title(\"Fourier coefficients of the ODE solution\")\n",
    "# plt.xlabel(\"Coefficient index\");"
   ]
  },
  {
   "cell_type": "code",
   "execution_count": 25,
   "id": "53b0338b-96da-4ef0-b33a-50d0ab27188e",
   "metadata": {},
   "outputs": [],
   "source": [
    "d_alpha_psi_solution = lambda x: [g[n]*l(n+1, x) for n in range(len(g))][0]\n",
    "\n",
    "# Uncertainty computation\n",
    "sigma_prior = np.identity(C.shape[0])*amplitude**(-0.75)\n",
    "p = np.linalg.solve(sigma_prior.T @ C.T, np.array([l(n+1,R) for n in range(DD.shape[0])]))\n",
    "dalpha_psi_var = np.einsum('ij,ij->j', p, p)\n",
    "\n",
    "# plt.figure()\n",
    "# plt.plot(R, d_alpha_psi_solution(R)/R)\n",
    "# plt.title(r\"$\\delta \\alpha \\psi$\");\n",
    "# plt.xlabel(\"R\");\n",
    "\n",
    "# plt.fill_between(R, d_alpha_psi_solution(R)/R - np.sqrt(dalpha_psi_var),  d_alpha_psi_solution(R)/R + np.sqrt(dalpha_psi_var), alpha=0.17)\n"
   ]
  },
  {
   "cell_type": "code",
   "execution_count": 26,
   "id": "0d73efba-655c-4c39-814f-cfcb09f5f418",
   "metadata": {},
   "outputs": [],
   "source": [
    "# plt.plot()\n",
    "# plt.plot(R, alpha*psi + d_alpha_psi_solution(R)/R)\n",
    "# plt.fill_between(R, alpha*psi + d_alpha_psi_solution(R)/R - np.sqrt(dalpha_psi_var), alpha*psi + d_alpha_psi_solution(R)/R + np.sqrt(dalpha_psi_var), alpha=0.17)\n",
    "\n",
    "# plt.title(r\"$\\alpha \\psi$ after perturbation\");\n",
    "# plt.xlabel(\"R\")"
   ]
  },
  {
   "cell_type": "code",
   "execution_count": 27,
   "id": "4ef049d4",
   "metadata": {},
   "outputs": [],
   "source": [
    "# fig, ax = plt.subplots(1, 1, sharex=True)\n",
    "\n",
    "# ax.plot(R/R[0], E/E[0], label=r\"$E/E(0)$\")\n",
    "# ax.plot(R/R[0], S/S[0], label=r\"$S/S(0)$\")\n",
    "# ax.plot(R/R[0], psi/psi[0], label=r\"$\\psi/\\psi(0)$\")\n",
    "# ax.plot(R/R[0], alpha/alpha[0], label=r\"$\\alpha/\\alpha(0)$\")\n",
    "# ax.set_xscale('log')\n",
    "# # ax[1].set_yscale('log')\n",
    "\n",
    "# # ax[1].plot(R/R[0], (E_perturbed - E)/E[0], label=r\"$\\delta E/E(0)$\")\n",
    "# # ax[1].plot(R/R[0], (S_perturbed - S)/S[0], label=r\"$\\delta S/S(0)$\")\n",
    "# # ax[1].plot(R/R[0], (dpsi_solution(R)/R)/(psi[0]), label=r\"$\\delta \\psi/\\psi(0)$\")\n",
    "# # ax[1].plot(R/R[0], (d_alpha_psi_solution(R)/R)/(alpha[0]*psi[0]), label=r\"$\\delta (\\alpha \\psi)/(\\alpha \\psi)(0)$\")\n",
    "\n",
    "\n",
    "\n",
    "# ax.legend()\n",
    "# ax.set_xlabel(r\"$r/r_{\\min}$\")\n",
    "# plt.show()"
   ]
  },
  {
   "cell_type": "code",
   "execution_count": 28,
   "id": "1829fa36",
   "metadata": {},
   "outputs": [],
   "source": [
    "# fig, ax = plt.subplots(1, 1, sharex=True)\n",
    "\n",
    "# ax.plot(R/R[0], (E_perturbed - E)/E[0], label=r\"$\\delta E/E(0)$\")\n",
    "# ax.plot(R/R[0], (S_perturbed - S)/S[0], label=r\"$\\delta S/S(0)$\")\n",
    "# ax.plot(R/R[0], (dpsi_solution(R)/R)/(psi[0]), label=r\"$\\delta \\psi/\\psi(0)$\")\n",
    "# ax.plot(R/R[0], (d_alpha_psi_solution(R)/R)/(alpha[0]*psi[0]), label=r\"$\\delta (\\alpha \\psi)/(\\alpha \\psi)(0)$\")\n",
    "\n",
    "\n",
    "# ax.set_xscale('log')\n",
    "# ax.set_yscale('log')\n",
    "\n",
    "# ax.legend()\n",
    "# ax.set_xlabel(r\"$r/r_{\\min}$\")\n",
    "# plt.show()"
   ]
  },
  {
   "cell_type": "code",
   "execution_count": 29,
   "id": "c49be013",
   "metadata": {},
   "outputs": [],
   "source": [
    "# fig, ax = plt.subplots(2, 1, sharex=True)\n",
    "\n",
    "# # ax[0].set_title('TOV solution and perturbation')\n",
    "\n",
    "# ax[0].plot(R/R[0], E/E[0], label=r\"$E/E(0)$\")\n",
    "# ax[0].plot(R/R[0], S/S[0], label=r\"$S/S(0)$\")\n",
    "# ax[0].plot(R/R[0], psi/psi[0], label=r\"$\\psi/\\psi(0)$\")\n",
    "# ax[0].plot(R/R[0], alpha/alpha[0], label=r\"$\\alpha/\\alpha(0)$\")\n",
    "# ax[0].set_xscale('log')\n",
    "# # ax[1].set_yscale('log')\n",
    "\n",
    "# ax[1].plot(R/R[0], 10* (E_perturbed - E)/E[0], label=r\"$10 \\times \\delta E/E(0)$\")\n",
    "# ax[1].plot(R/R[0], 100*(S_perturbed - S)/S[0], label=r\"$100 \\times \\delta S/S(0)$\")\n",
    "# ax[1].plot(R/R[0], 100*(dpsi_solution(R)/R)/(psi[0]), label=r\"$100 \\times \\delta \\psi/\\psi(0)$\")\n",
    "# ax[1].plot(R/R[0], (d_alpha_psi_solution(R)/R)/(alpha[0]*psi[0]), label=r\"$\\delta (\\alpha \\psi)/(\\alpha \\psi)(0)$\")\n",
    "\n",
    "# ax[1].set_ylim((-0.09, 0.09))\n",
    "\n",
    "\n",
    "# ax[0].legend()\n",
    "# ax[1].legend()\n",
    "# ax[1].set_xlabel(r\"$r/r_{\\min}$\")\n",
    "\n",
    "# plt.savefig(\"plots/tov.pdf\")"
   ]
  },
  {
   "cell_type": "code",
   "execution_count": 42,
   "id": "292a6d66-488f-411e-9b82-a991e974a250",
   "metadata": {},
   "outputs": [
    {
     "data": {
      "image/png": "[encoded data removed]",
      "text/plain": [
       "<Figure size 300x320 with 3 Axes>"
      ]
     },
     "metadata": {},
     "output_type": "display_data"
    }
   ],
   "source": [
    "fig, ax = plt.subplots(3, 1, sharex=True, figsize=(3, 3.2))\n",
    "\n",
    "# ax[0].set_title('TOV solution and perturbation')\n",
    "\n",
    "ax[0].plot(R/R[0], E/E[0], label=r\"$E/E(0)$\")\n",
    "ax[0].plot(R/R[0], S/S[0], label=r\"$S/S(0)$\")\n",
    "ax[0].plot(R/R[0], psi/psi[0], label=r\"$\\psi/\\psi(0)$\")\n",
    "ax[0].plot(R/R[0], alpha/alpha[0], label=r\"$\\alpha/\\alpha(0)$\")\n",
    "ax[0].set_xscale('log')\n",
    "# ax[1].set_yscale('log')\n",
    "\n",
    "ax[1].plot(R/R[0], 10* (E_perturbed - E)/E[0], label=r\"$10 \\times \\delta E/E(0)$\")\n",
    "ax[1].plot(R/R[0], 100*(S_perturbed - S)/S[0], label=r\"$100 \\times \\delta S/S(0)$\")\n",
    "\n",
    "ax[1].fill_between(R/R[0], 10* (E_perturbed - E)/E[0] - 0.01, 10* (E_perturbed - E)/E[0] +0.01, color='tab:blue', label=r\"$10 \\times 1 \\sigma$\", alpha=0.17)\n",
    "ax[1].fill_between(R/R[0], 100*(S_perturbed - S)/S[0] - 0.01, 100*(S_perturbed - S)/S[0] +0.01, color='tab:orange', label=r\"$100 \\times \\sigma$\", alpha=0.17)\n",
    "\n",
    "\n",
    "ax[2].plot(R/R[0], 100*(dpsi_solution(R)/R)/(psi[0]), c='tab:green', label=r\"$100 \\times \\delta \\psi/\\psi(0)$\")\n",
    "ax[2].plot(R/R[0], (d_alpha_psi_solution(R)/R)/(alpha[0]*psi[0]), c='tab:red', label=r\"$\\delta (\\alpha \\psi)/(\\alpha \\psi)(0)$\")\n",
    "\n",
    "ax[2].fill_between(R/R[0], 100*(dpsi_solution(R)/R - np.sqrt(dpsi_var))/(psi[0]), 100*(dpsi_solution(R)/R + np.sqrt(dpsi_var))/(psi[0]), color='tab:green', label=r\"$100 \\times 1 \\sigma$\", alpha=0.17)\n",
    "ax[2].fill_between(R/R[0], (d_alpha_psi_solution(R)/R - np.sqrt(dalpha_psi_var))/(alpha[0]*psi[0]), (d_alpha_psi_solution(R)/R + np.sqrt(dalpha_psi_var))/(alpha[0]*psi[0]), color='tab:red', label=r\"$1 \\sigma$\", alpha=0.17)\n",
    "# ax[2].fill_between(R/R[0], (d_alpha_psi_solution(R)/R)/(alpha[0]*psi[0]), label=r\"$\\delta (\\alpha \\psi)/(\\alpha \\psi)(0)$\")\n",
    "g\n",
    "\n",
    "\n",
    "ax[1].set_ylim((-0.09, 0.09))\n",
    "# ax[1].set_xlim((0, np.max(R/R[0])))\n",
    "\n",
    "ax[0].legend(loc='lower left')\n",
    "ax[1].legend(loc='center left')\n",
    "ax[2].set_xlabel(r\"$r/r_{\\min}$\")\n",
    "\n",
    "ax[2].legend(loc='center left')\n",
    "\n",
    "plt.savefig(\"plots/tov.pdf\")"
   ]
  },
  {
   "cell_type": "code",
   "execution_count": 1,
   "id": "5fa7e43b",
   "metadata": {},
   "outputs": [
    {
     "ename": "NameError",
     "evalue": "name 'plt' is not defined",
     "output_type": "error",
     "traceback": [
      "\u001b[0;31m---------------------------------------------------------------------------\u001b[0m",
      "\u001b[0;31mNameError\u001b[0m                                 Traceback (most recent call last)",
      "Cell \u001b[0;32mIn[1], line 1\u001b[0m\n\u001b[0;32m----> 1\u001b[0m fig, ax \u001b[38;5;241m=\u001b[39m \u001b[43mplt\u001b[49m\u001b[38;5;241m.\u001b[39msubplots(\u001b[38;5;241m3\u001b[39m, \u001b[38;5;241m1\u001b[39m, sharex\u001b[38;5;241m=\u001b[39m\u001b[38;5;28;01mTrue\u001b[39;00m, figsize\u001b[38;5;241m=\u001b[39m(\u001b[38;5;241m3\u001b[39m, \u001b[38;5;241m3.2\u001b[39m))\n\u001b[1;32m      3\u001b[0m \u001b[38;5;66;03m# ax[0].set_title('TOV solution and perturbation')\u001b[39;00m\n\u001b[1;32m      5\u001b[0m ax[\u001b[38;5;241m0\u001b[39m]\u001b[38;5;241m.\u001b[39mplot(R\u001b[38;5;241m/\u001b[39mR[\u001b[38;5;241m0\u001b[39m], E\u001b[38;5;241m/\u001b[39mE[\u001b[38;5;241m0\u001b[39m], label\u001b[38;5;241m=\u001b[39m\u001b[38;5;124mr\u001b[39m\u001b[38;5;124m\"\u001b[39m\u001b[38;5;124m$E/E(0)$\u001b[39m\u001b[38;5;124m\"\u001b[39m)\n",
      "\u001b[0;31mNameError\u001b[0m: name 'plt' is not defined"
     ]
    }
   ],
   "source": [
    "fig, ax = plt.subplots(3, 1, sharex=True, figsize=(3, 3.2))\n",
    "\n",
    "# ax[0].set_title('TOV solution and perturbation')\n",
    "\n",
    "ax[0].plot(R/R[0], E/E[0], label=r\"$E/E(0)$\")\n",
    "ax[0].plot(R/R[0], S/S[0], label=r\"$S/S(0)$\")\n",
    "ax[0].plot(R/R[0], psi/psi[0], label=r\"$\\psi/\\psi(0)$\")\n",
    "ax[0].plot(R/R[0], alpha/alpha[0], label=r\"$\\alpha/\\alpha(0)$\")\n",
    "ax[0].set_xscale('log')\n",
    "# ax[1].set_yscale('log')\n",
    "\n",
    "ax[1].plot(R/R[0],    (E_perturbed - E)/E[0], label=r\"$\\delta E/E(0)$\")\n",
    "ax[1].plot(R/R[0], 10*(S_perturbed - S)/S[0], label=r\"$10 \\times \\delta S/S(0)$\")\n",
    "\n",
    "ax[1].fill_between(R/R[0],    (E_perturbed - E)/E[0] - 0.001,    (E_perturbed - E)/E[0] +0.001, color='tab:blue', label=r\"$1 \\sigma$\", alpha=0.17)\n",
    "ax[1].fill_between(R/R[0], 10*(S_perturbed - S)/S[0] - 0.001, 10*(S_perturbed - S)/S[0] +0.001, color='tab:orange', label=r\"$10 \\times \\sigma$\", alpha=0.17)\n",
    "\n",
    "\n",
    "ax[2].plot(R/R[0], 100*(dpsi_solution(R)/R)/(psi[0]), c='tab:green', label=r\"$100 \\times \\delta \\psi/\\psi(0)$\")\n",
    "ax[2].plot(R/R[0], (d_alpha_psi_solution(R)/R)/(alpha[0]*psi[0]), c='tab:red', label=r\"$\\delta (\\alpha \\psi)/(\\alpha \\psi)(0)$\")\n",
    "\n",
    "ax[2].fill_between(R/R[0], 100*(dpsi_solution(R)/R - np.sqrt(dpsi_var))/(psi[0]), 100*(dpsi_solution(R)/R + np.sqrt(dpsi_var))/(psi[0]), color='tab:green', label=r\"$100 \\times 1 \\sigma$\", alpha=0.17)\n",
    "ax[2].fill_between(R/R[0], (d_alpha_psi_solution(R)/R - np.sqrt(dalpha_psi_var))/(alpha[0]*psi[0]), (d_alpha_psi_solution(R)/R + np.sqrt(dalpha_psi_var))/(alpha[0]*psi[0]), color='tab:red', label=r\"$1 \\sigma$\", alpha=0.17)\n",
    "# ax[2].fill_between(R/R[0], (d_alpha_psi_solution(R)/R)/(alpha[0]*psi[0]), label=r\"$\\delta (\\alpha \\psi)/(\\alpha \\psi)(0)$\")\n",
    "g\n",
    "\n",
    "\n",
    "ax[1].set_ylim((-0.09, 0.09))\n",
    "# ax[1].set_xlim((0, np.max(R/R[0])))\n",
    "\n",
    "ax[0].legend(loc='lower left')\n",
    "ax[1].legend(loc='center left')\n",
    "ax[2].set_xlabel(r\"$r/r_{\\min}$\")\n",
    "\n",
    "ax[2].legend(loc='center left')\n",
    "\n",
    "plt.savefig(\"plots/tov.pdf\")"
   ]
  },
  {
   "cell_type": "code",
   "execution_count": null,
   "id": "f9337cda-bec9-43db-b245-708c94cfe00c",
   "metadata": {},
   "outputs": [],
   "source": []
  },
  {
   "cell_type": "code",
   "execution_count": null,
   "id": "9ad2bbe3",
   "metadata": {},
   "outputs": [],
   "source": []
  }
 ],
 "metadata": {
  "kernelspec": {
   "display_name": "grhd",
   "language": "python",
   "name": "python3"
  },
  "language_info": {
   "codemirror_mode": {
    "name": "ipython",
    "version": 3
   },
   "file_extension": ".py",
   "mimetype": "text/x-python",
   "name": "python",
   "nbconvert_exporter": "python",
   "pygments_lexer": "ipython3",
   "version": "3.12.4"
  }
 },
 "nbformat": 4,
 "nbformat_minor": 5
}

{
 "cells": [
  {
   "cell_type": "code",
   "execution_count": 5,
   "id": "a6b589d5-1808-42a6-8c5e-f23197ccabb4",
   "metadata": {},
   "outputs": [],
   "source": [
    "%reset -f\n",
    "import sympy as sp\n",
    "import numpy as np"
   ]
  },
  {
   "cell_type": "code",
   "execution_count": 13,
   "id": "923d5ebd-686f-44be-9913-6c5537da53d7",
   "metadata": {},
   "outputs": [
    {
     "name": "stdout",
     "output_type": "stream",
     "text": [
      "-Si(x) - cos(x)/x\n"
     ]
    }
   ],
   "source": [
    "x, n, m = sp.symbols(\"x, n, m\")\n",
    "k = sp.Function(\"k\")(x)\n",
    "\n",
    "k = 2/x**2\n",
    "\n",
    "R = 1\n",
    "\n",
    "print(sp.integrate(sp.cos(x)/x**2, (x)))\n",
    "      \n",
    "# integral_expr =  sp.integrate(k*sp.sin((n * sp.pi * x)/R)*sp.sin((m * sp.pi * x)/R), (x, 0, R))\n",
    "# print(integral_expr)\n",
    "\n",
    "# matrix_size = 4\n",
    "# K = np.zeros((matrix_size, matrix_size))\n",
    "\n",
    "# for n in range(1, matrix_size + 1):\n",
    "#     for m in range(1, matrix_size + 1):\n",
    "#         integral_expr =  sp.integrate(k*sp.sin((n * sp.pi * x)/R)*sp.sin((m * sp.pi * x)/R), (x, 0, R))\n",
    "#         K[n-1, m-1]=-2*R**2 / (sp.pi**2 * n * m) * integral_expr.evalf()\n",
    "\n",
    "# print(K)"
   ]
  },
  {
   "cell_type": "code",
   "execution_count": 3,
   "id": "d9133fd4-bc11-4da3-a994-ba2a697fdee0",
   "metadata": {},
   "outputs": [
    {
     "name": "stdout",
     "output_type": "stream",
     "text": [
      "[[-101.32118364    0.            0.            0.            0.        ]\n",
      " [   0.          -25.33029591    0.            0.            0.        ]\n",
      " [   0.            0.          -11.25790929    0.            0.        ]\n",
      " [   0.            0.            0.           -6.33257398    0.        ]\n",
      " [   0.            0.            0.            0.           -4.05284735]]\n"
     ]
    }
   ],
   "source": [
    "import numpy as np\n",
    "import sympy as sp\n",
    "\n",
    "# Define symbols\n",
    "R = 10  # Example value\n",
    "k = 1   # Example value\n",
    "x = sp.symbols('x')\n",
    "\n",
    "matrix_size = 5  # Example matrix size\n",
    "K = np.zeros((matrix_size, matrix_size))  # NumPy matrix\n",
    "\n",
    "for n in range(1, matrix_size + 1):  # Starting from 1 to avoid division by 0\n",
    "    for m in range(1, matrix_size + 1):  # Same as above\n",
    "        # Perform symbolic integration\n",
    "        integral_expr = sp.integrate(k * sp.sin((n * sp.pi * x) / R) * sp.sin((m * sp.pi * x) / R), (x, 0, R))\n",
    "        # Convert the symbolic result to a numerical value using evalf()\n",
    "        K[n - 1, m - 1] = -2 * R**2 / (sp.pi**2 * n * m) * integral_expr.evalf()  # evalf() converts to a float\n",
    "\n",
    "print(K)\n"
   ]
  },
  {
   "cell_type": "code",
   "execution_count": null,
   "id": "b7aeb304-3991-4017-ac34-b39779606669",
   "metadata": {},
   "outputs": [],
   "source": []
  }
 ],
 "metadata": {
  "kernelspec": {
   "display_name": "Python 3 (ipykernel)",
   "language": "python",
   "name": "python3"
  },
  "language_info": {
   "codemirror_mode": {
    "name": "ipython",
    "version": 3
   },
   "file_extension": ".py",
   "mimetype": "text/x-python",
   "name": "python",
   "nbconvert_exporter": "python",
   "pygments_lexer": "ipython3",
   "version": "3.13.1"
  }
 },
 "nbformat": 4,
 "nbformat_minor": 5
}
